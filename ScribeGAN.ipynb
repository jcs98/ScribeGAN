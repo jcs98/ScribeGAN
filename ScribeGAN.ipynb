{
  "nbformat": 4,
  "nbformat_minor": 0,
  "metadata": {
    "colab": {
      "name": "mnist_gan.ipynb",
      "provenance": [],
      "collapsed_sections": []
    },
    "kernelspec": {
      "name": "python3",
      "display_name": "Python 3"
    },
    "accelerator": "GPU"
  },
  "cells": [
    {
      "cell_type": "code",
      "metadata": {
        "id": "ZR4tUnNN_6SK",
        "colab_type": "code",
        "outputId": "250ffae5-a204-44f6-ded6-922b58f2ea61",
        "colab": {
          "base_uri": "https://localhost:8080/",
          "height": 34
        }
      },
      "source": [
        "from google.colab import drive\n",
        "drive.mount('/content/drive/')"
      ],
      "execution_count": 0,
      "outputs": [
        {
          "output_type": "stream",
          "text": [
            "Drive already mounted at /content/drive/; to attempt to forcibly remount, call drive.mount(\"/content/drive/\", force_remount=True).\n"
          ],
          "name": "stdout"
        }
      ]
    },
    {
      "cell_type": "code",
      "metadata": {
        "id": "ubVwceUMAabL",
        "colab_type": "code",
        "colab": {}
      },
      "source": [
        "!pip install -q keras"
      ],
      "execution_count": 0,
      "outputs": []
    },
    {
      "cell_type": "code",
      "metadata": {
        "id": "IMmI_bugAoml",
        "colab_type": "code",
        "outputId": "86e7f2fe-46e2-4e4d-f265-6883dfdebffe",
        "colab": {
          "base_uri": "https://localhost:8080/",
          "height": 34
        }
      },
      "source": [
        "import tensorflow as tf\n",
        "tf.test.gpu_device_name()"
      ],
      "execution_count": 0,
      "outputs": [
        {
          "output_type": "execute_result",
          "data": {
            "text/plain": [
              "'/device:GPU:0'"
            ]
          },
          "metadata": {
            "tags": []
          },
          "execution_count": 37
        }
      ]
    },
    {
      "cell_type": "code",
      "metadata": {
        "id": "1GoS-tvgAxyk",
        "colab_type": "code",
        "colab": {}
      },
      "source": [
        "import numpy as np\n",
        "import time\n",
        "from tensorflow.examples.tutorials.mnist import input_data\n",
        "from keras.datasets import mnist\n",
        "\n",
        "from keras.models import Sequential\n",
        "from keras.layers import Dense, Activation, Flatten, Reshape\n",
        "from keras.layers import Conv2D, Conv2DTranspose, UpSampling2D\n",
        "from keras.layers import LeakyReLU, Dropout\n",
        "from keras.layers import BatchNormalization\n",
        "from keras.optimizers import Adam, RMSprop\n",
        "\n",
        "import matplotlib.pyplot as plt"
      ],
      "execution_count": 0,
      "outputs": []
    },
    {
      "cell_type": "code",
      "metadata": {
        "id": "OQ-26V-jUEKc",
        "colab_type": "code",
        "colab": {}
      },
      "source": [
        "data = input_data.read_data_sets(\"mnist\", one_hot=True).train.images\n",
        "data = data.reshape(-1, 28, 28, 1).astype(np.float32)\n",
        "print(data[0])"
      ],
      "execution_count": 0,
      "outputs": []
    },
    {
      "cell_type": "code",
      "metadata": {
        "id": "Jkz81NugVxih",
        "colab_type": "code",
        "colab": {}
      },
      "source": [
        "(x_train, y_train), (x_test, y_test) = mnist.load_data()\n",
        "\n",
        "x_train = x_train.reshape(-1, 28, 28, 1).astype(np.float32)\n",
        "\n",
        "x_train = 1.0/255*x_train\n",
        "\n",
        "print(y_train[2])"
      ],
      "execution_count": 0,
      "outputs": []
    },
    {
      "cell_type": "code",
      "metadata": {
        "id": "OHElzygdA5Zc",
        "colab_type": "code",
        "colab": {}
      },
      "source": [
        "class ElapsedTimer(object):\n",
        "    def __init__(self):\n",
        "        self.start_time = time.time()\n",
        "    def elapsed(self,sec):\n",
        "        if sec < 60:\n",
        "            return str(sec) + \" sec\"\n",
        "        elif sec < (60 * 60):\n",
        "            return str(sec / 60) + \" min\"\n",
        "        else:\n",
        "            return str(sec / (60 * 60)) + \" hr\"\n",
        "    def elapsed_time(self):\n",
        "        print(\"Elapsed: %s \" % self.elapsed(time.time() - self.start_time) )"
      ],
      "execution_count": 0,
      "outputs": []
    },
    {
      "cell_type": "code",
      "metadata": {
        "id": "I2Daxz68uraE",
        "colab_type": "code",
        "colab": {}
      },
      "source": [
        "class MNIST_Classifier(object):\n",
        "    def __init__(self, input_shape):\n",
        "        self.classifier = self.classifier_model(input_shape)\n",
        "        self.classifier.compile(optimizer='rmsprop', loss='sparse_categorical_crossentropy', metrics=['accuracy'])\n",
        "        self.classifier.load_weights(\"/content/drive/My Drive/mnist_gan/classifier.h5\")\n",
        "    \n",
        "    def classifier_model(self, input_shape):\n",
        "        model = Sequential()\n",
        "        model.add(Flatten(input_shape = input_shape))\n",
        "        model.add(Dense(128, activation='relu'))\n",
        "        model.add(Dense(128, activation='relu'))\n",
        "        model.add(Dense(10, activation='softmax'))\n",
        "\n",
        "#         model.summary()\n",
        "        return model"
      ],
      "execution_count": 0,
      "outputs": []
    },
    {
      "cell_type": "code",
      "metadata": {
        "id": "6uDSdZp5vysw",
        "colab_type": "code",
        "outputId": "6f8d2672-3485-4611-c3f3-55fcac629957",
        "colab": {
          "base_uri": "https://localhost:8080/",
          "height": 50
        }
      },
      "source": [
        "(x_train, y_train), (x_test, y_test) = mnist.load_data()\n",
        "\n",
        "mnist_classifier = MNIST_Classifier()\n",
        "\n",
        "# c.classifier.fit(x_train, y_train, epochs=20, batch_size=500)\n",
        "\n",
        "val_loss, val_acc = mnist_classifier.classifier.evaluate(x_test, y_test)\n",
        "print(\"val_loss: \", val_loss, \"val_acc\", val_acc)\n",
        "\n",
        "# classifier_json = c.classifier.to_json()\n",
        "# with open(\"/content/drive/My Drive/mnist_gan/classifier.json\", \"w\") as classifier_json_file:\n",
        "#     classifier_json_file.write(classifier_json)\n",
        "# c.classifier.save_weights(\"/content/drive/My Drive/mnist_gan/classifier.h5\")"
      ],
      "execution_count": 0,
      "outputs": [
        {
          "output_type": "stream",
          "text": [
            "10000/10000 [==============================] - 1s 144us/step\n",
            "val_loss:  0.5382646422702306 val_acc 0.9647\n"
          ],
          "name": "stdout"
        }
      ]
    },
    {
      "cell_type": "code",
      "metadata": {
        "id": "4cGDwH7tBBX3",
        "colab_type": "code",
        "colab": {}
      },
      "source": [
        "class DCGAN(object):\n",
        "    def __init__(self, img_rows=28, img_cols=28, channel=1):\n",
        "\n",
        "        self.img_rows = img_rows\n",
        "        self.img_cols = img_cols\n",
        "        self.channel = channel\n",
        "        self.D = self.discriminator()   # discriminator\n",
        "        \n",
        "        self.optimizer = Adam(lr=0.0002, beta_1=0.5, decay=8e-8)\n",
        "        self.G = self.generator()   # generator\n",
        "        self.G.compile(loss='binary_crossentropy', optimizer=self.optimizer, metrics=['accuracy'])\n",
        "\n",
        "        self.dm_optimizer = RMSprop(lr=0.0002, decay=6e-8)\n",
        "        self.DM = self.discriminator_model()  # discriminator model\n",
        "        self.DM.compile(loss='binary_crossentropy', optimizer=self.dm_optimizer, metrics=['accuracy'])\n",
        "        \n",
        "        self.DM.load_weights(\"/content/drive/My Drive/mnist_gan/discriminator_model.h5\")\n",
        "        \n",
        "        self.am_optimizer = RMSprop(lr=0.0001, decay=3e-8)\n",
        "        self.AM = self.adversarial_model()  # adversarial model\n",
        "        self.AM.compile(loss='binary_crossentropy', optimizer=self.am_optimizer, metrics=['accuracy'])\n",
        "        \n",
        "        self.AM.load_weights(\"/content/drive/My Drive/mnist_gan/adversarial_model.h5\")\n",
        "\n",
        "\n",
        "    # (W−F+2P)/S+1\n",
        "    def discriminator(self):\n",
        "        model = Sequential()\n",
        "        depth = 64\n",
        "        dropout = 0.4\n",
        "        # In: 28 x 28 x 1, depth = 1\n",
        "        # Out: 14 x 14 x 1, depth=64\n",
        "        input_shape = (self.img_rows, self.img_cols, self.channel)\n",
        "        model.add(Conv2D(depth*1, 5, strides=2, input_shape=input_shape, padding='same'))\n",
        "        model.add(LeakyReLU(alpha=0.2))\n",
        "        model.add(Dropout(dropout))\n",
        "\n",
        "        model.add(Conv2D(depth*2, 5, strides=2, padding='same'))\n",
        "        model.add(LeakyReLU(alpha=0.2))\n",
        "        model.add(Dropout(dropout))\n",
        "\n",
        "        model.add(Conv2D(depth*4, 5, strides=2, padding='same'))\n",
        "        model.add(LeakyReLU(alpha=0.2))\n",
        "        model.add(Dropout(dropout))\n",
        "\n",
        "        model.add(Conv2D(depth*8, 5, strides=1, padding='same'))\n",
        "        model.add(LeakyReLU(alpha=0.2))\n",
        "        model.add(Dropout(dropout))\n",
        "\n",
        "        # Out: 1-dim probability\n",
        "        model.add(Flatten())\n",
        "        model.add(Dense(1))\n",
        "        model.add(Activation('sigmoid'))\n",
        "#         model.summary()\n",
        "        return model\n",
        "\n",
        "    def generator(self):\n",
        "        model = Sequential()\n",
        "        dropout = 0.4\n",
        "        depth = 64+64+64+64\n",
        "        dim = 7\n",
        "        # In: 100\n",
        "        # Out: dim x dim x depth\n",
        "        model.add(Dense(dim*dim*depth, input_dim=100))\n",
        "        model.add(BatchNormalization(momentum=0.9))\n",
        "        model.add(Activation('relu'))\n",
        "        model.add(Reshape((dim, dim, depth)))\n",
        "        model.add(Dropout(dropout))\n",
        "\n",
        "        # In: dim x dim x depth\n",
        "        # Out: 2*dim x 2*dim x depth/2\n",
        "        model.add(UpSampling2D())\n",
        "        model.add(Conv2DTranspose(int(depth/2), 5, padding='same'))\n",
        "        model.add(BatchNormalization(momentum=0.9))\n",
        "        model.add(Activation('relu'))\n",
        "\n",
        "        model.add(UpSampling2D())\n",
        "        model.add(Conv2DTranspose(int(depth/4), 5, padding='same'))\n",
        "        model.add(BatchNormalization(momentum=0.9))\n",
        "        model.add(Activation('relu'))\n",
        "\n",
        "        model.add(Conv2DTranspose(int(depth/8), 5, padding='same'))\n",
        "        model.add(BatchNormalization(momentum=0.9))\n",
        "        model.add(Activation('relu'))\n",
        "\n",
        "        # Out: 28 x 28 x 1 grayscale image [0.0,1.0] per pix\n",
        "        model.add(Conv2DTranspose(1, 5, padding='same'))\n",
        "        model.add(Activation('sigmoid'))\n",
        "#         model.summary()\n",
        "        return model\n",
        "\n",
        "    def discriminator_model(self):\n",
        "        model = Sequential()\n",
        "        model.add(self.D)\n",
        "        return model\n",
        "\n",
        "    def adversarial_model(self):\n",
        "\n",
        "        self.D.trainable = False # freeze the discriminator weights\n",
        "\n",
        "        model = Sequential()\n",
        "        model.add(self.G)\n",
        "        model.add(self.D)\n",
        "        return model"
      ],
      "execution_count": 0,
      "outputs": []
    },
    {
      "cell_type": "code",
      "metadata": {
        "id": "waFKZIkABFWw",
        "colab_type": "code",
        "colab": {}
      },
      "source": [
        "class MNIST_DCGAN(object):\n",
        "    def __init__(self):\n",
        "        self.img_rows = 28\n",
        "        self.img_cols = 28\n",
        "        self.channel = 1\n",
        "\n",
        "#         self.x_train = input_data.read_data_sets(\"mnist\", one_hot=True).train.images\n",
        "#         self.x_train = self.x_train.reshape(-1, self.img_rows, self.img_cols, 1).astype(np.float32)\n",
        "        \n",
        "        (x_train, y_train), (x_test, y_test) = mnist.load_data()\n",
        "        x_train = x_train.reshape(-1, 28, 28, 1).astype(np.float32)\n",
        "        self.x_train = 1.0/255*x_train\n",
        "        self.y_train = y_train\n",
        "\n",
        "        self.DCGAN = DCGAN()\n",
        "        self.discriminator =  self.DCGAN.DM\n",
        "        self.adversarial = self.DCGAN.AM\n",
        "        self.generator = self.DCGAN.G\n",
        "        \n",
        "        self.mnist_classifier = MNIST_Classifier(x_test[0].shape)\n",
        "\n",
        "    def train(self, train_steps=2000, batch_size=256, save_interval=0):\n",
        "        noise_input = None\n",
        "        if save_interval>0:\n",
        "            noise_input = np.random.uniform(-1.0, 1.0, size=[16, 100])\n",
        "        for i in range(train_steps):\n",
        "            images_train = self.x_train[np.random.randint(0, self.x_train.shape[0], size=batch_size), :, :, :]\n",
        "            noise = np.random.uniform(-1.0, 1.0, size=[batch_size, 100])\n",
        "            images_fake = self.generator.predict(noise)\n",
        "            x = np.concatenate((images_train, images_fake))\n",
        "            y = np.ones([2*batch_size, 1])\n",
        "            y[batch_size:, :] = 0\n",
        "            \n",
        "            #train discriminator\n",
        "            d_loss = self.discriminator.train_on_batch(x, y)\n",
        "\n",
        "            y = np.ones([batch_size, 1])\n",
        "            noise = np.random.uniform(-1.0, 1.0, size=[batch_size, 100])\n",
        "            \n",
        "            #train adversarial\n",
        "            a_loss = self.adversarial.train_on_batch(noise, y)\n",
        "            \n",
        "            log_mesg = \"%d: [D loss: %f, acc: %f]\" % (i, d_loss[0], d_loss[1])\n",
        "            log_mesg = \"%s  [A loss: %f, acc: %f]\" % (log_mesg, a_loss[0], a_loss[1])\n",
        "            print(log_mesg)\n",
        "            \n",
        "            if save_interval>0:\n",
        "                if (i+1)%save_interval==0:\n",
        "                    self.plot_images(save2file=True, samples=noise_input.shape[0], noise=noise_input, step=(i+1))\n",
        "                    \n",
        "                    # Save discriminator model\n",
        "                    discriminator_model_json = self.discriminator.to_json()\n",
        "                    with open(\"/content/drive/My Drive/mnist_gan/discriminator_model.json\", \"w\") as discriminator_json_file:\n",
        "                        discriminator_json_file.write(discriminator_model_json)\n",
        "                    self.discriminator.save_weights(\"/content/drive/My Drive/mnist_gan/discriminator_model.h5\")\n",
        "\n",
        "                    # Save adversarial model\n",
        "                    adversarial_model_json = self.adversarial.to_json()\n",
        "                    with open(\"/content/drive/My Drive/mnist_gan/adversarial_model.json\", \"w\") as adversarial_json_file:\n",
        "                        adversarial_json_file.write(adversarial_model_json)\n",
        "                    self.adversarial.save_weights(\"/content/drive/My Drive/mnist_gan/adversarial_model.h5\")\n",
        "                    \n",
        "\n",
        "    def predict_with_mnist_classifier(self, images, samples):\n",
        "        images = images.reshape(samples, self.img_rows, self.img_cols)\n",
        "        prediction = self.mnist_classifier.classifier.predict(images)\n",
        "        prediction = np.array([np.argmax(p) for p in prediction])\n",
        "        return prediction\n",
        "                    \n",
        "    def plot_images(self, save2file=False, fake=True, samples=16, noise=None, step=0):\n",
        "        filename = 'mnist.png'\n",
        "        if fake:\n",
        "            if noise is None:\n",
        "                noise = np.random.uniform(-1.0, 1.0, size=[samples, 100])\n",
        "            else:\n",
        "                filename = \"mnist_%d.png\" % step\n",
        "            images = self.generator.predict(noise)\n",
        "        else:\n",
        "#             i = np.random.randint(0, self.x_train.shape[0], samples)\n",
        "            i = range(samples)\n",
        "            images = self.x_train[i, :, :, :]\n",
        "            print(\"y_train\", y_train[:samples])\n",
        "            \n",
        "        prediction = self.predict_with_mnist_classifier(images, samples)\n",
        "        print(\"prediction\", prediction)\n",
        "\n",
        "        plt.figure(figsize=(10,10))\n",
        "        for i in range(images.shape[0]):\n",
        "            plt.subplot(4, 4, i+1)\n",
        "            image = images[i, :, :, :]\n",
        "            image = np.reshape(image, [self.img_rows, self.img_cols])\n",
        "            plt.imshow(image, cmap='gray')\n",
        "            plt.axis('off')\n",
        "        plt.tight_layout()\n",
        "        if save2file:\n",
        "            print(\"Saving result...\")\n",
        "            plt.savefig('/content/drive/My Drive/mnist_gan/secureResults/'+filename)\n",
        "            plt.close('all')\n",
        "        else:\n",
        "            plt.show()"
      ],
      "execution_count": 0,
      "outputs": []
    },
    {
      "cell_type": "code",
      "metadata": {
        "id": "RgyxJS8M6v1r",
        "colab_type": "code",
        "outputId": "93bbe2fe-4664-4311-808d-1452c7744dc9",
        "colab": {
          "base_uri": "https://localhost:8080/",
          "height": 746
        }
      },
      "source": [
        "mnist_dcgan = MNIST_DCGAN()\n",
        "mnist_dcgan.plot_images(fake=True, save2file=False)"
      ],
      "execution_count": 0,
      "outputs": [
        {
          "output_type": "stream",
          "text": [
            "prediction [1 2 9 6 2 6 2 2 9 4 4 6 3 6 4 0]\n"
          ],
          "name": "stdout"
        },
        {
          "output_type": "display_data",
          "data": {
            "image/png": "[encoded data removed]",
            "text/plain": [
              "<Figure size 720x720 with 16 Axes>"
            ]
          },
          "metadata": {
            "tags": []
          }
        }
      ]
    },
    {
      "cell_type": "code",
      "metadata": {
        "id": "rsOd97v1BKG4",
        "colab_type": "code",
        "colab": {}
      },
      "source": [
        "mnist_dcgan = MNIST_DCGAN()\n",
        "timer = ElapsedTimer()\n",
        "mnist_dcgan.train(train_steps=1000, batch_size=256, save_interval=100)\n",
        "timer.elapsed_time()\n",
        "mnist_dcgan.plot_images(fake=True, save2file=True)\n",
        "mnist_dcgan.plot_images(fake=False, save2file=True)"
      ],
      "execution_count": 0,
      "outputs": []
    }
  ]
}